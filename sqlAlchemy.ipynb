{
 "cells": [
  {
   "cell_type": "code",
   "execution_count": null,
   "metadata": {},
   "outputs": [],
   "source": [
    "# Example python program to read data from a PostgreSQL table\n",
    "# and load into a pandas DataFrame\n",
    "\n",
    "import psycopg2\n",
    "import pandas as pds\n",
    "from sqlalchemy import create_engine\n",
    "\n",
    "# Create an engine instance\n",
    "alchemyEngine   = create_engine('postgresql+psycopg2://test:@127.0.0.1', pool_recycle=3600);\n",
    "\n",
    "# Connect to PostgreSQL server\n",
    "dbConnection    = alchemyEngine.connect();\n",
    "\n",
    "# Read data from PostgreSQL database table and load into a DataFrame instance\n",
    "dataFrame       = pds.read_sql(\"select * from \\\"StudentScores\\\"\", dbConnection);\n",
    "pds.set_option('display.expand_frame_repr', False);\n",
    "\n",
    "# Print the DataFrame\n",
    "print(dataFrame);\n",
    "\n",
    "# Close the database connection\n",
    "dbConnection.close();"
   ]
  }
 ],
 "metadata": {
  "kernelspec": {
   "display_name": "Python 3",
   "language": "python",
   "name": "python3"
  },
  "language_info": {
   "codemirror_mode": {
    "name": "ipython",
    "version": 3
   },
   "file_extension": ".py",
   "mimetype": "text/x-python",
   "name": "python",
   "nbconvert_exporter": "python",
   "pygments_lexer": "ipython3",
   "version": "3.7.4"
  }
 },
 "nbformat": 4,
 "nbformat_minor": 2
}
