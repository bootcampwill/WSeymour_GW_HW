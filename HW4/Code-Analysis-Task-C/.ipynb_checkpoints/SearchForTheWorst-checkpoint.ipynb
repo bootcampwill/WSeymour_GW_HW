{
 "cells": [
  {
   "cell_type": "markdown",
   "metadata": {},
   "source": [
    "# Search For The Worst\n",
    "\n",
    "#### The objective of this assignment is for you to explain what is happening in each cell in clear, understandable language. \n",
    "\n",
    "#### _There is no need to code._ The code is there for you, and it already runs. Your task is only to explain what each line in each cell does.\n",
    "\n",
    "#### The placeholder cells should describe what happens in the cell below it."
   ]
  },
  {
   "cell_type": "markdown",
   "metadata": {},
   "source": [
    "**Example**: The cell below imports `pandas` as a dependency because `pandas` functions will be used throughout the program, such as the Pandas `DataFrame` as well as the `read_csv` function."
   ]
  },
  {
   "cell_type": "code",
   "execution_count": null,
   "metadata": {},
   "outputs": [],
   "source": [
    "import pandas as pd\n",
    "import numpy as np"
   ]
  },
  {
   "cell_type": "markdown",
   "metadata": {},
   "source": [
    "**Example**: The cell below creates a reference to teh csv file and stores it in a variable called `csv_path`. It then creates a DataFrame using the `pd.read_csv` function. The output of the `read_csv` function is a DataFrame."
   ]
  },
  {
   "cell_type": "code",
   "execution_count": null,
   "metadata": {},
   "outputs": [],
   "source": [
    "# Create reference to CSV file\n",
    "csv_path = \"Resources/Soccer2018Data.csv\"\n",
    "\n",
    "# Import the CSV into a pandas DataFrame\n",
    "soccer_2018_df = pd.read_csv(csv_path, low_memory=False)\n",
    "soccer_2018_df"
   ]
  },
  {
   "cell_type": "markdown",
   "metadata": {},
   "source": [
    "This will return ll the unique values for the \"Preferred position\" column in the succer_2018_df dataframe."
   ]
  },
  {
   "cell_type": "code",
   "execution_count": null,
   "metadata": {},
   "outputs": [],
   "source": [
    "soccer_2018_df[\"Preferred Position\"].unique()"
   ]
  },
  {
   "cell_type": "markdown",
   "metadata": {},
   "source": [
    "This filters the dataframe to just strikers using the .loc function to find rows where Preferred Position  = ST."
   ]
  },
  {
   "cell_type": "code",
   "execution_count": null,
   "metadata": {},
   "outputs": [],
   "source": [
    "strikers_2018_df = soccer_2018_df.loc[soccer_2018_df[\"Preferred Position\"] == \"ST\", :]\n",
    "strikers_2018_df.head()"
   ]
  },
  {
   "cell_type": "markdown",
   "metadata": {},
   "source": [
    "This sorts the whole data frame on the values for \"ST\" which meausres a players rating for that position. Resetting the index makes position 0 in the index the first row of this new, sorted dataset. THe the first few rows are displayed."
   ]
  },
  {
   "cell_type": "code",
   "execution_count": null,
   "metadata": {},
   "outputs": [],
   "source": [
    "# Sort the DataFrame by the values in the \"ST\" column to find the worst\n",
    "strikers_2018_df = strikers_2018_df.sort_values(\"ST\")\n",
    "\n",
    "# Reset the index so that the index is now based on the sorting locations\n",
    "strikers_2018_df = strikers_2018_df.reset_index(drop=True)\n",
    "\n",
    "strikers_2018_df.head()"
   ]
  },
  {
   "cell_type": "markdown",
   "metadata": {},
   "source": [
    "this creates a new varibale called \"worst_striker\" which is all the stats (i.e. the values of every column for the selected row) of the first row of the data which is the 'worst player'.  This call uses the loc function to find the first row (0) and grab all the columns for that row (, :) and then displays that information.\n"
   ]
  },
  {
   "cell_type": "code",
   "execution_count": null,
   "metadata": {
    "scrolled": false
   },
   "outputs": [],
   "source": [
    "worst_striker = strikers_2018_df.loc[0, :]\n",
    "worst_striker"
   ]
  }
 ],
 "metadata": {
  "kernelspec": {
   "display_name": "Python 3",
   "language": "python",
   "name": "python3"
  },
  "language_info": {
   "codemirror_mode": {
    "name": "ipython",
    "version": 3
   },
   "file_extension": ".py",
   "mimetype": "text/x-python",
   "name": "python",
   "nbconvert_exporter": "python",
   "pygments_lexer": "ipython3",
   "version": "3.7.3"
  }
 },
 "nbformat": 4,
 "nbformat_minor": 2
}
