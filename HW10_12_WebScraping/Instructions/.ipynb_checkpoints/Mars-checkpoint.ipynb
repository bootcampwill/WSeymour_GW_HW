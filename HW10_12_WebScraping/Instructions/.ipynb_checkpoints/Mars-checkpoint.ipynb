{
 "cells": [
  {
   "cell_type": "code",
   "execution_count": 1,
   "metadata": {},
   "outputs": [],
   "source": [
    "import requests\n",
    "from bs4 import BeautifulSoup\n",
    "#import chromedriver\n",
    "from splinter import Browser\n",
    "\n",
    "url = \"https://mars.nasa.gov/news\"\n",
    "executable_path = {'executable_path': 'chromedriver'}\n",
    "browser = Browser('chrome', **executable_path, headless=False)\n",
    "browser.visit(url)\n",
    "html = browser.html\n",
    "soup = BeautifulSoup(html, 'html.parser')\n",
    "\n",
    "#find titles and article teasers in html\n",
    "article = soup.find(\"div\", class_='list_text')\n",
    "titles = soup.find('div', class_='content_title').text\n"
   ]
  },
  {
   "cell_type": "code",
   "execution_count": 2,
   "metadata": {},
   "outputs": [
    {
     "name": "stdout",
     "output_type": "stream",
     "text": [
      "NASA's Mars 2020 Rover Completes Its First Drive\n",
      "In a 10-plus-hour marathon, the rover steered, turned and drove in 3-foot (1-meter) increments over small ramps.\n"
     ]
    }
   ],
   "source": [
    "article_teasers = article.find('div', class_='article_teaser_body').text\n",
    "#save them as variables for later\n",
    "news_title = titles\n",
    "news_p     = article_teasers\n",
    "print(news_title)\n",
    "print(news_p)\n"
   ]
  },
  {
   "cell_type": "code",
   "execution_count": null,
   "metadata": {},
   "outputs": [],
   "source": [
    "#set browser for jpl site\n",
    "url = \"https://www.jpl.nasa.gov/spaceimages/?search=&category=Mars\"\n",
    "browser.visit(url)\n"
   ]
  },
  {
   "cell_type": "code",
   "execution_count": null,
   "metadata": {},
   "outputs": [],
   "source": [
    "#click on image link and get url for image\n",
    "browser.find_by_id('full_image').click()\n",
    "featured_image_url = browser.find_by_css('.fancybox-image').first['src']\n",
    "\n",
    "featured_image_url"
   ]
  },
  {
   "cell_type": "code",
   "execution_count": null,
   "metadata": {},
   "outputs": [],
   "source": [
    "#get martian weather report\n",
    "#url\n",
    "twitter_url = \"https://twitter.com/marswxreport?lang=en\"\n",
    "#visit url\n",
    "browser.visit(twitter_url)\n",
    "twitter_html = browser.html"
   ]
  },
  {
   "cell_type": "code",
   "execution_count": null,
   "metadata": {},
   "outputs": [],
   "source": [
    "#set up web driver to read javascript?\n",
    "from selenium import webdriver\n",
    "driver = webdriver.Chrome()\n",
    "driver.get(twitter_url)\n",
    "twitter_html = driver.page_source\n",
    "driver.close()"
   ]
  },
  {
   "cell_type": "code",
   "execution_count": null,
   "metadata": {},
   "outputs": [],
   "source": [
    "#make soup\n",
    "twitter_soup = BeautifulSoup(twitter_html, 'html.parser')\n",
    "#grab first tweet out of soup\n",
    "mars_weather = twitter_soup.find_all('p', class_=\"tweet-text\")[0].text\n",
    "print(mars_weather)"
   ]
  },
  {
   "cell_type": "code",
   "execution_count": null,
   "metadata": {},
   "outputs": [],
   "source": [
    "#mars facts table\n",
    "#url\n",
    "mars_facts_url = 'https://space-facts.com/mars/'\n",
    "#visit url\n",
    "browser.visit(mars_facts_url)\n",
    "mars_facts_html = browser.html\n",
    "#make soup\n",
    "mars_facts_soup = BeautifulSoup(mars_facts_html, 'html.parser')\n",
    "#find table\n",
    "mars_facts = mars_facts_soup.find_all('table', class_=\"tablepress-id-p-mars\")[0].prettify()\n",
    "print(mars_facts)"
   ]
  },
  {
   "cell_type": "code",
   "execution_count": null,
   "metadata": {},
   "outputs": [],
   "source": [
    "#convert to pandas DF\n",
    "import pandas as pd\n",
    "mars_table = pd.read_html(mars_facts)\n",
    "mars_df = mars_table[0]\n",
    "mars_df_html = pd.DataFrame.to_html(mars_df)\n",
    "print(mars_df_html)"
   ]
  },
  {
   "cell_type": "code",
   "execution_count": null,
   "metadata": {},
   "outputs": [],
   "source": [
    "#mars hemispheres\n",
    "#url\n",
    "mars_hemispheres_url = 'https://astrogeology.usgs.gov/search/results?q=hemisphere+enhanced&k1=target&v1=Mars'\n",
    "#visit url\n",
    "browser.visit(mars_hemispheres_url)\n",
    "mars_hemispheres_html = browser.html\n",
    "#make soup\n",
    "mars_hemispheres_soup = BeautifulSoup(mars_hemispheres_html, 'html.parser')\n",
    "#find table\n",
    "mars_hemispheres = mars_hemispheres_soup.find_all('h3')\n",
    "\n",
    "#create empty list to store hemispher names\n",
    "hemisphere_list = []\n",
    "#show html\n",
    "\n",
    "for hemisphere in mars_hemispheres:\n",
    "    hemisphere_list.append(hemisphere.text)\n",
    "\n",
    "\n",
    "#create list of hemisphere urls\n",
    "hemisphere_image_urls = []\n",
    "\n",
    "#for loop using splinter to find links, click on them\n",
    "for hemisphere in hemisphere_list:\n",
    "    #click on link with hemisphere name\n",
    "    browser.click_link_by_partial_text(hemisphere)\n",
    "    #open page to full res\n",
    "    browser.find_link_by_text('Open').first.click()\n",
    "    #grab url\n",
    "    hemisphere_url = browser.find_by_css('.wide-image').first['src']\n",
    "    #add to dictionary\n",
    "    hemisphere_image_dict = {'title': hemisphere, \"img_url\":hemisphere_url}\n",
    "    #add dictionary to list\n",
    "    hemisphere_image_urls.append(hemisphere_image_dict)\n",
    "    #go back to 'home'page\n",
    "    browser.visit(mars_hemispheres_url)\n"
   ]
  },
  {
   "cell_type": "code",
   "execution_count": null,
   "metadata": {},
   "outputs": [],
   "source": [
    "#did it work?\n",
    "hemisphere_image_urls"
   ]
  },
  {
   "cell_type": "code",
   "execution_count": null,
   "metadata": {},
   "outputs": [],
   "source": []
  }
 ],
 "metadata": {
  "kernelspec": {
   "display_name": "Python 3",
   "language": "python",
   "name": "python3"
  },
  "language_info": {
   "codemirror_mode": {
    "name": "ipython",
    "version": 3
   },
   "file_extension": ".py",
   "mimetype": "text/x-python",
   "name": "python",
   "nbconvert_exporter": "python",
   "pygments_lexer": "ipython3",
   "version": "3.7.4"
  }
 },
 "nbformat": 4,
 "nbformat_minor": 2
}
